{
 "cells": [
  {
   "cell_type": "code",
   "execution_count": 1,
   "metadata": {},
   "outputs": [],
   "source": [
    "import pandas as pd\n",
    "import numpy as np\n",
    "\n",
    "from sklearn.ensemble import RandomForestClassifier\n",
    "from sklearn.model_selection import train_test_split, RandomizedSearchCV\n",
    "from sklearn.metrics import accuracy_score\n",
    "\n",
    "%matplotlib inline"
   ]
  },
  {
   "cell_type": "code",
   "execution_count": 2,
   "metadata": {},
   "outputs": [],
   "source": [
    "df = pd.read_csv('data/preprocessed_data.csv')"
   ]
  },
  {
   "cell_type": "code",
   "execution_count": 3,
   "metadata": {},
   "outputs": [
    {
     "data": {
      "text/html": [
       "<div>\n",
       "<style scoped>\n",
       "    .dataframe tbody tr th:only-of-type {\n",
       "        vertical-align: middle;\n",
       "    }\n",
       "\n",
       "    .dataframe tbody tr th {\n",
       "        vertical-align: top;\n",
       "    }\n",
       "\n",
       "    .dataframe thead th {\n",
       "        text-align: right;\n",
       "    }\n",
       "</style>\n",
       "<table border=\"1\" class=\"dataframe\">\n",
       "  <thead>\n",
       "    <tr style=\"text-align: right;\">\n",
       "      <th></th>\n",
       "      <th>Winner</th>\n",
       "      <th>title_bout</th>\n",
       "      <th>no_of_rounds</th>\n",
       "      <th>B_current_lose_streak</th>\n",
       "      <th>B_current_win_streak</th>\n",
       "      <th>B_draw</th>\n",
       "      <th>B_avg_BODY_att</th>\n",
       "      <th>B_avg_BODY_landed</th>\n",
       "      <th>B_avg_CLINCH_att</th>\n",
       "      <th>B_avg_CLINCH_landed</th>\n",
       "      <th>...</th>\n",
       "      <th>weight_class_Women's Strawweight</th>\n",
       "      <th>B_Stance_Open Stance</th>\n",
       "      <th>B_Stance_Orthodox</th>\n",
       "      <th>B_Stance_Sideways</th>\n",
       "      <th>B_Stance_Southpaw</th>\n",
       "      <th>B_Stance_Switch</th>\n",
       "      <th>R_Stance_Open Stance</th>\n",
       "      <th>R_Stance_Orthodox</th>\n",
       "      <th>R_Stance_Southpaw</th>\n",
       "      <th>R_Stance_Switch</th>\n",
       "    </tr>\n",
       "  </thead>\n",
       "  <tbody>\n",
       "    <tr>\n",
       "      <th>0</th>\n",
       "      <td>Red</td>\n",
       "      <td>True</td>\n",
       "      <td>2.710334</td>\n",
       "      <td>-0.707441</td>\n",
       "      <td>2.029151</td>\n",
       "      <td>0.0</td>\n",
       "      <td>0.054024</td>\n",
       "      <td>-0.033398</td>\n",
       "      <td>-1.082811</td>\n",
       "      <td>-1.040600</td>\n",
       "      <td>...</td>\n",
       "      <td>0</td>\n",
       "      <td>0</td>\n",
       "      <td>1</td>\n",
       "      <td>0</td>\n",
       "      <td>0</td>\n",
       "      <td>0</td>\n",
       "      <td>0</td>\n",
       "      <td>1</td>\n",
       "      <td>0</td>\n",
       "      <td>0</td>\n",
       "    </tr>\n",
       "    <tr>\n",
       "      <th>1</th>\n",
       "      <td>Red</td>\n",
       "      <td>True</td>\n",
       "      <td>2.710334</td>\n",
       "      <td>-0.707441</td>\n",
       "      <td>1.321267</td>\n",
       "      <td>0.0</td>\n",
       "      <td>0.814758</td>\n",
       "      <td>0.576176</td>\n",
       "      <td>0.464458</td>\n",
       "      <td>0.310748</td>\n",
       "      <td>...</td>\n",
       "      <td>0</td>\n",
       "      <td>0</td>\n",
       "      <td>1</td>\n",
       "      <td>0</td>\n",
       "      <td>0</td>\n",
       "      <td>0</td>\n",
       "      <td>0</td>\n",
       "      <td>0</td>\n",
       "      <td>1</td>\n",
       "      <td>0</td>\n",
       "    </tr>\n",
       "    <tr>\n",
       "      <th>2</th>\n",
       "      <td>Red</td>\n",
       "      <td>False</td>\n",
       "      <td>-0.295838</td>\n",
       "      <td>-0.707441</td>\n",
       "      <td>1.321267</td>\n",
       "      <td>0.0</td>\n",
       "      <td>0.921097</td>\n",
       "      <td>1.013218</td>\n",
       "      <td>-0.210213</td>\n",
       "      <td>-0.228477</td>\n",
       "      <td>...</td>\n",
       "      <td>0</td>\n",
       "      <td>0</td>\n",
       "      <td>1</td>\n",
       "      <td>0</td>\n",
       "      <td>0</td>\n",
       "      <td>0</td>\n",
       "      <td>0</td>\n",
       "      <td>1</td>\n",
       "      <td>0</td>\n",
       "      <td>0</td>\n",
       "    </tr>\n",
       "    <tr>\n",
       "      <th>3</th>\n",
       "      <td>Blue</td>\n",
       "      <td>False</td>\n",
       "      <td>-0.295838</td>\n",
       "      <td>-0.707441</td>\n",
       "      <td>2.029151</td>\n",
       "      <td>0.0</td>\n",
       "      <td>1.152862</td>\n",
       "      <td>1.539697</td>\n",
       "      <td>0.724559</td>\n",
       "      <td>0.995678</td>\n",
       "      <td>...</td>\n",
       "      <td>0</td>\n",
       "      <td>0</td>\n",
       "      <td>0</td>\n",
       "      <td>0</td>\n",
       "      <td>0</td>\n",
       "      <td>1</td>\n",
       "      <td>0</td>\n",
       "      <td>1</td>\n",
       "      <td>0</td>\n",
       "      <td>0</td>\n",
       "    </tr>\n",
       "    <tr>\n",
       "      <th>4</th>\n",
       "      <td>Blue</td>\n",
       "      <td>False</td>\n",
       "      <td>-0.295838</td>\n",
       "      <td>-0.707441</td>\n",
       "      <td>-0.094501</td>\n",
       "      <td>0.0</td>\n",
       "      <td>1.152862</td>\n",
       "      <td>1.638015</td>\n",
       "      <td>-0.776025</td>\n",
       "      <td>-0.670368</td>\n",
       "      <td>...</td>\n",
       "      <td>0</td>\n",
       "      <td>0</td>\n",
       "      <td>0</td>\n",
       "      <td>0</td>\n",
       "      <td>1</td>\n",
       "      <td>0</td>\n",
       "      <td>0</td>\n",
       "      <td>0</td>\n",
       "      <td>1</td>\n",
       "      <td>0</td>\n",
       "    </tr>\n",
       "  </tbody>\n",
       "</table>\n",
       "<p>5 rows × 160 columns</p>\n",
       "</div>"
      ],
      "text/plain": [
       "  Winner  title_bout  no_of_rounds  B_current_lose_streak  \\\n",
       "0    Red        True      2.710334              -0.707441   \n",
       "1    Red        True      2.710334              -0.707441   \n",
       "2    Red       False     -0.295838              -0.707441   \n",
       "3   Blue       False     -0.295838              -0.707441   \n",
       "4   Blue       False     -0.295838              -0.707441   \n",
       "\n",
       "   B_current_win_streak  B_draw  B_avg_BODY_att  B_avg_BODY_landed  \\\n",
       "0              2.029151     0.0        0.054024          -0.033398   \n",
       "1              1.321267     0.0        0.814758           0.576176   \n",
       "2              1.321267     0.0        0.921097           1.013218   \n",
       "3              2.029151     0.0        1.152862           1.539697   \n",
       "4             -0.094501     0.0        1.152862           1.638015   \n",
       "\n",
       "   B_avg_CLINCH_att  B_avg_CLINCH_landed       ...         \\\n",
       "0         -1.082811            -1.040600       ...          \n",
       "1          0.464458             0.310748       ...          \n",
       "2         -0.210213            -0.228477       ...          \n",
       "3          0.724559             0.995678       ...          \n",
       "4         -0.776025            -0.670368       ...          \n",
       "\n",
       "   weight_class_Women's Strawweight  B_Stance_Open Stance  B_Stance_Orthodox  \\\n",
       "0                                 0                     0                  1   \n",
       "1                                 0                     0                  1   \n",
       "2                                 0                     0                  1   \n",
       "3                                 0                     0                  0   \n",
       "4                                 0                     0                  0   \n",
       "\n",
       "   B_Stance_Sideways  B_Stance_Southpaw  B_Stance_Switch  \\\n",
       "0                  0                  0                0   \n",
       "1                  0                  0                0   \n",
       "2                  0                  0                0   \n",
       "3                  0                  0                1   \n",
       "4                  0                  1                0   \n",
       "\n",
       "   R_Stance_Open Stance  R_Stance_Orthodox  R_Stance_Southpaw  R_Stance_Switch  \n",
       "0                     0                  1                  0                0  \n",
       "1                     0                  0                  1                0  \n",
       "2                     0                  1                  0                0  \n",
       "3                     0                  1                  0                0  \n",
       "4                     0                  0                  1                0  \n",
       "\n",
       "[5 rows x 160 columns]"
      ]
     },
     "execution_count": 3,
     "metadata": {},
     "output_type": "execute_result"
    }
   ],
   "source": [
    "df.head()"
   ]
  },
  {
   "cell_type": "code",
   "execution_count": 4,
   "metadata": {},
   "outputs": [],
   "source": [
    "y = df['Winner']\n",
    "X = df.drop(columns = 'Winner')\n",
    "\n",
    "X_train, X_test, y_train, y_test = train_test_split(X, y, test_size=0.1, random_state=43)"
   ]
  },
  {
   "cell_type": "code",
   "execution_count": 5,
   "metadata": {},
   "outputs": [],
   "source": [
    "model = RandomForestClassifier(n_estimators=100, oob_score=True, random_state=43)"
   ]
  },
  {
   "cell_type": "code",
   "execution_count": 6,
   "metadata": {},
   "outputs": [
    {
     "data": {
      "text/plain": [
       "RandomForestClassifier(bootstrap=True, class_weight=None, criterion='gini',\n",
       "            max_depth=None, max_features='auto', max_leaf_nodes=None,\n",
       "            min_impurity_decrease=0.0, min_impurity_split=None,\n",
       "            min_samples_leaf=1, min_samples_split=2,\n",
       "            min_weight_fraction_leaf=0.0, n_estimators=100, n_jobs=1,\n",
       "            oob_score=True, random_state=43, verbose=0, warm_start=False)"
      ]
     },
     "execution_count": 6,
     "metadata": {},
     "output_type": "execute_result"
    }
   ],
   "source": [
    "model.fit(X_train, y_train)"
   ]
  },
  {
   "cell_type": "code",
   "execution_count": 7,
   "metadata": {},
   "outputs": [
    {
     "data": {
      "text/plain": [
       "0.65580261955528485"
      ]
     },
     "execution_count": 7,
     "metadata": {},
     "output_type": "execute_result"
    }
   ],
   "source": [
    "model.oob_score_"
   ]
  },
  {
   "cell_type": "code",
   "execution_count": 9,
   "metadata": {},
   "outputs": [],
   "source": [
    "y_preds = model.predict(X_test)"
   ]
  },
  {
   "cell_type": "code",
   "execution_count": 11,
   "metadata": {},
   "outputs": [
    {
     "data": {
      "text/plain": [
       "0.63835616438356169"
      ]
     },
     "execution_count": 11,
     "metadata": {},
     "output_type": "execute_result"
    }
   ],
   "source": [
    "accuracy_score(y_test, y_preds)"
   ]
  },
  {
   "cell_type": "code",
   "execution_count": 12,
   "metadata": {},
   "outputs": [
    {
     "data": {
      "text/plain": [
       "array([  4.07746157e-04,   7.03355796e-04,   2.48952467e-03,\n",
       "         3.63813285e-03,   0.00000000e+00,   1.10305375e-02,\n",
       "         8.86059520e-03,   8.40160974e-03,   8.80760498e-03,\n",
       "         1.21289573e-02,   1.27390642e-02,   8.10216229e-03,\n",
       "         7.48509641e-03,   1.05898193e-02,   8.58436465e-03,\n",
       "         4.70277521e-03,   8.39830202e-03,   8.52910730e-03,\n",
       "         6.66794020e-03,   4.15768041e-03,   1.27079417e-02,\n",
       "         9.16549979e-03,   9.13448455e-03,   5.31070309e-03,\n",
       "         9.99850299e-03,   6.41143279e-03,   7.42488417e-03,\n",
       "         9.40284833e-03,   8.34781988e-03,   4.10543257e-03,\n",
       "         3.97577478e-03,   8.48399243e-03,   7.94347627e-03,\n",
       "         8.95855072e-03,   9.07881351e-03,   1.09494963e-02,\n",
       "         9.81872555e-03,   7.95739984e-03,   8.42607655e-03,\n",
       "         8.40323470e-03,   8.74251473e-03,   3.74570168e-03,\n",
       "         8.50572610e-03,   7.72423979e-03,   6.37212675e-03,\n",
       "         3.97432438e-03,   8.07918954e-03,   7.91943302e-03,\n",
       "         9.76477091e-03,   5.19585988e-03,   7.82069533e-03,\n",
       "         6.57479088e-03,   9.05544212e-03,   7.61928343e-03,\n",
       "         1.05357822e-02,   6.56039948e-03,   6.81437757e-03,\n",
       "         1.46290292e-03,   2.91475927e-04,   1.58988163e-03,\n",
       "         2.92224121e-03,   3.11463069e-03,   2.90691275e-03,\n",
       "         4.39333375e-04,   4.01582448e-03,   5.93236428e-03,\n",
       "         7.38728327e-03,   5.15093770e-03,   2.46003920e-03,\n",
       "         2.93977704e-03,   0.00000000e+00,   1.02350442e-02,\n",
       "         8.99845869e-03,   8.48645165e-03,   7.80403204e-03,\n",
       "         8.32137612e-03,   8.53914284e-03,   8.64670653e-03,\n",
       "         9.64247245e-03,   8.41207058e-03,   9.03569717e-03,\n",
       "         5.11817234e-03,   8.59251922e-03,   8.09279579e-03,\n",
       "         7.78360937e-03,   4.47111345e-03,   8.40402215e-03,\n",
       "         9.07364419e-03,   8.21118113e-03,   7.11274978e-03,\n",
       "         9.22898249e-03,   8.41844546e-03,   1.15386647e-02,\n",
       "         9.54834017e-03,   9.82808231e-03,   3.73216795e-03,\n",
       "         7.14486697e-03,   1.02037355e-02,   9.53995161e-03,\n",
       "         8.14946790e-03,   8.63803392e-03,   9.36095316e-03,\n",
       "         1.40394233e-02,   9.10462881e-03,   8.50413915e-03,\n",
       "         9.59771775e-03,   1.26926170e-02,   7.77751016e-03,\n",
       "         8.93339278e-03,   9.25313232e-03,   8.71683304e-03,\n",
       "         4.40602389e-03,   1.03014121e-02,   1.29277771e-02,\n",
       "         1.18364983e-02,   5.71668893e-03,   8.85214556e-03,\n",
       "         7.44648790e-03,   8.43466052e-03,   9.84007337e-03,\n",
       "         1.01099092e-02,   8.35580343e-03,   9.26277579e-03,\n",
       "         2.39886684e-03,   3.68394689e-04,   2.62384621e-03,\n",
       "         3.35983886e-03,   4.17546505e-03,   3.22648190e-03,\n",
       "         7.94352812e-04,   5.62994830e-03,   6.49757825e-03,\n",
       "         6.20353436e-03,   4.52309266e-03,   9.50173121e-03,\n",
       "         1.41014840e-02,   7.49472234e-04,   4.73918430e-05,\n",
       "         7.43016100e-04,   5.79776194e-04,   4.06010747e-04,\n",
       "         7.09305670e-04,   9.68224799e-04,   9.13641815e-04,\n",
       "         0.00000000e+00,   1.17869184e-03,   3.89950947e-04,\n",
       "         3.31440359e-05,   9.18307377e-05,   2.55221619e-04,\n",
       "         0.00000000e+00,   9.18558110e-04,   0.00000000e+00,\n",
       "         7.75044914e-04,   5.41945655e-04,   1.66940478e-04,\n",
       "         1.28128481e-03,   8.77766697e-04,   4.97834226e-04])"
      ]
     },
     "execution_count": 12,
     "metadata": {},
     "output_type": "execute_result"
    }
   ],
   "source": [
    "model.feature_importances_"
   ]
  },
  {
   "cell_type": "code",
   "execution_count": null,
   "metadata": {},
   "outputs": [],
   "source": []
  },
  {
   "cell_type": "code",
   "execution_count": null,
   "metadata": {},
   "outputs": [],
   "source": []
  }
 ],
 "metadata": {
  "kernelspec": {
   "display_name": "Python 3",
   "language": "python",
   "name": "python3"
  },
  "language_info": {
   "codemirror_mode": {
    "name": "ipython",
    "version": 3
   },
   "file_extension": ".py",
   "mimetype": "text/x-python",
   "name": "python",
   "nbconvert_exporter": "python",
   "pygments_lexer": "ipython3",
   "version": "3.6.7"
  }
 },
 "nbformat": 4,
 "nbformat_minor": 2
}
