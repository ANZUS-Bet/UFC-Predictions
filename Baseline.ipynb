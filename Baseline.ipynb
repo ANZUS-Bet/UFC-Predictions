{
 "cells": [
  {
   "cell_type": "code",
   "execution_count": 1,
   "metadata": {},
   "outputs": [],
   "source": [
    "import pandas as pd\n",
    "import numpy as np\n",
    "\n",
    "from sklearn.ensemble import RandomForestClassifier\n",
    "from sklearn.model_selection import train_test_split\n",
    "from sklearn.preprocessing import StandardScaler\n",
    "from sklearn.metrics import accuracy_score\n",
    "\n",
    "%matplotlib inline"
   ]
  },
  {
   "cell_type": "code",
   "execution_count": 2,
   "metadata": {},
   "outputs": [],
   "source": [
    "df = pd.read_csv('data/preprocessed_data.csv')"
   ]
  },
  {
   "cell_type": "code",
   "execution_count": 3,
   "metadata": {},
   "outputs": [
    {
     "data": {
      "text/html": [
       "<div>\n",
       "<style scoped>\n",
       "    .dataframe tbody tr th:only-of-type {\n",
       "        vertical-align: middle;\n",
       "    }\n",
       "\n",
       "    .dataframe tbody tr th {\n",
       "        vertical-align: top;\n",
       "    }\n",
       "\n",
       "    .dataframe thead th {\n",
       "        text-align: right;\n",
       "    }\n",
       "</style>\n",
       "<table border=\"1\" class=\"dataframe\">\n",
       "  <thead>\n",
       "    <tr style=\"text-align: right;\">\n",
       "      <th></th>\n",
       "      <th>Winner</th>\n",
       "      <th>title_bout</th>\n",
       "      <th>no_of_rounds</th>\n",
       "      <th>B_current_lose_streak</th>\n",
       "      <th>B_current_win_streak</th>\n",
       "      <th>B_draw</th>\n",
       "      <th>B_avg_BODY_att</th>\n",
       "      <th>B_avg_BODY_landed</th>\n",
       "      <th>B_avg_CLINCH_att</th>\n",
       "      <th>B_avg_CLINCH_landed</th>\n",
       "      <th>...</th>\n",
       "      <th>weight_class_Women's Strawweight</th>\n",
       "      <th>B_Stance_Open Stance</th>\n",
       "      <th>B_Stance_Orthodox</th>\n",
       "      <th>B_Stance_Sideways</th>\n",
       "      <th>B_Stance_Southpaw</th>\n",
       "      <th>B_Stance_Switch</th>\n",
       "      <th>R_Stance_Open Stance</th>\n",
       "      <th>R_Stance_Orthodox</th>\n",
       "      <th>R_Stance_Southpaw</th>\n",
       "      <th>R_Stance_Switch</th>\n",
       "    </tr>\n",
       "  </thead>\n",
       "  <tbody>\n",
       "    <tr>\n",
       "      <th>0</th>\n",
       "      <td>Red</td>\n",
       "      <td>True</td>\n",
       "      <td>5</td>\n",
       "      <td>0.0</td>\n",
       "      <td>4.0</td>\n",
       "      <td>0.0</td>\n",
       "      <td>9.200000</td>\n",
       "      <td>6.000000</td>\n",
       "      <td>0.200000</td>\n",
       "      <td>0.000000</td>\n",
       "      <td>...</td>\n",
       "      <td>0</td>\n",
       "      <td>0</td>\n",
       "      <td>1</td>\n",
       "      <td>0</td>\n",
       "      <td>0</td>\n",
       "      <td>0</td>\n",
       "      <td>0</td>\n",
       "      <td>1</td>\n",
       "      <td>0</td>\n",
       "      <td>0</td>\n",
       "    </tr>\n",
       "    <tr>\n",
       "      <th>1</th>\n",
       "      <td>Red</td>\n",
       "      <td>True</td>\n",
       "      <td>5</td>\n",
       "      <td>0.0</td>\n",
       "      <td>3.0</td>\n",
       "      <td>0.0</td>\n",
       "      <td>14.600000</td>\n",
       "      <td>9.100000</td>\n",
       "      <td>11.800000</td>\n",
       "      <td>7.300000</td>\n",
       "      <td>...</td>\n",
       "      <td>0</td>\n",
       "      <td>0</td>\n",
       "      <td>1</td>\n",
       "      <td>0</td>\n",
       "      <td>0</td>\n",
       "      <td>0</td>\n",
       "      <td>0</td>\n",
       "      <td>0</td>\n",
       "      <td>1</td>\n",
       "      <td>0</td>\n",
       "    </tr>\n",
       "    <tr>\n",
       "      <th>2</th>\n",
       "      <td>Red</td>\n",
       "      <td>False</td>\n",
       "      <td>3</td>\n",
       "      <td>0.0</td>\n",
       "      <td>3.0</td>\n",
       "      <td>0.0</td>\n",
       "      <td>15.354839</td>\n",
       "      <td>11.322581</td>\n",
       "      <td>6.741935</td>\n",
       "      <td>4.387097</td>\n",
       "      <td>...</td>\n",
       "      <td>0</td>\n",
       "      <td>0</td>\n",
       "      <td>1</td>\n",
       "      <td>0</td>\n",
       "      <td>0</td>\n",
       "      <td>0</td>\n",
       "      <td>0</td>\n",
       "      <td>1</td>\n",
       "      <td>0</td>\n",
       "      <td>0</td>\n",
       "    </tr>\n",
       "    <tr>\n",
       "      <th>3</th>\n",
       "      <td>Blue</td>\n",
       "      <td>False</td>\n",
       "      <td>3</td>\n",
       "      <td>0.0</td>\n",
       "      <td>4.0</td>\n",
       "      <td>0.0</td>\n",
       "      <td>17.000000</td>\n",
       "      <td>14.000000</td>\n",
       "      <td>13.750000</td>\n",
       "      <td>11.000000</td>\n",
       "      <td>...</td>\n",
       "      <td>0</td>\n",
       "      <td>0</td>\n",
       "      <td>0</td>\n",
       "      <td>0</td>\n",
       "      <td>0</td>\n",
       "      <td>1</td>\n",
       "      <td>0</td>\n",
       "      <td>1</td>\n",
       "      <td>0</td>\n",
       "      <td>0</td>\n",
       "    </tr>\n",
       "    <tr>\n",
       "      <th>4</th>\n",
       "      <td>Blue</td>\n",
       "      <td>False</td>\n",
       "      <td>3</td>\n",
       "      <td>0.0</td>\n",
       "      <td>1.0</td>\n",
       "      <td>0.0</td>\n",
       "      <td>17.000000</td>\n",
       "      <td>14.500000</td>\n",
       "      <td>2.500000</td>\n",
       "      <td>2.000000</td>\n",
       "      <td>...</td>\n",
       "      <td>0</td>\n",
       "      <td>0</td>\n",
       "      <td>0</td>\n",
       "      <td>0</td>\n",
       "      <td>1</td>\n",
       "      <td>0</td>\n",
       "      <td>0</td>\n",
       "      <td>0</td>\n",
       "      <td>1</td>\n",
       "      <td>0</td>\n",
       "    </tr>\n",
       "  </tbody>\n",
       "</table>\n",
       "<p>5 rows × 160 columns</p>\n",
       "</div>"
      ],
      "text/plain": [
       "  Winner  title_bout  no_of_rounds  B_current_lose_streak  \\\n",
       "0    Red        True             5                    0.0   \n",
       "1    Red        True             5                    0.0   \n",
       "2    Red       False             3                    0.0   \n",
       "3   Blue       False             3                    0.0   \n",
       "4   Blue       False             3                    0.0   \n",
       "\n",
       "   B_current_win_streak  B_draw  B_avg_BODY_att  B_avg_BODY_landed  \\\n",
       "0                   4.0     0.0        9.200000           6.000000   \n",
       "1                   3.0     0.0       14.600000           9.100000   \n",
       "2                   3.0     0.0       15.354839          11.322581   \n",
       "3                   4.0     0.0       17.000000          14.000000   \n",
       "4                   1.0     0.0       17.000000          14.500000   \n",
       "\n",
       "   B_avg_CLINCH_att  B_avg_CLINCH_landed       ...         \\\n",
       "0          0.200000             0.000000       ...          \n",
       "1         11.800000             7.300000       ...          \n",
       "2          6.741935             4.387097       ...          \n",
       "3         13.750000            11.000000       ...          \n",
       "4          2.500000             2.000000       ...          \n",
       "\n",
       "   weight_class_Women's Strawweight  B_Stance_Open Stance  B_Stance_Orthodox  \\\n",
       "0                                 0                     0                  1   \n",
       "1                                 0                     0                  1   \n",
       "2                                 0                     0                  1   \n",
       "3                                 0                     0                  0   \n",
       "4                                 0                     0                  0   \n",
       "\n",
       "   B_Stance_Sideways  B_Stance_Southpaw  B_Stance_Switch  \\\n",
       "0                  0                  0                0   \n",
       "1                  0                  0                0   \n",
       "2                  0                  0                0   \n",
       "3                  0                  0                1   \n",
       "4                  0                  1                0   \n",
       "\n",
       "   R_Stance_Open Stance  R_Stance_Orthodox  R_Stance_Southpaw  R_Stance_Switch  \n",
       "0                     0                  1                  0                0  \n",
       "1                     0                  0                  1                0  \n",
       "2                     0                  1                  0                0  \n",
       "3                     0                  1                  0                0  \n",
       "4                     0                  0                  1                0  \n",
       "\n",
       "[5 rows x 160 columns]"
      ]
     },
     "execution_count": 3,
     "metadata": {},
     "output_type": "execute_result"
    }
   ],
   "source": [
    "df.head()"
   ]
  },
  {
   "cell_type": "markdown",
   "metadata": {},
   "source": [
    "### Normalizing data"
   ]
  },
  {
   "cell_type": "code",
   "execution_count": 4,
   "metadata": {},
   "outputs": [],
   "source": [
    "df_num = df.select_dtypes(include=[np.float, np.int])"
   ]
  },
  {
   "cell_type": "code",
   "execution_count": 5,
   "metadata": {},
   "outputs": [],
   "source": [
    "scaler = StandardScaler()\n",
    "\n",
    "df[list(df_num.columns)] = scaler.fit_transform(df[list(df_num.columns)])"
   ]
  },
  {
   "cell_type": "markdown",
   "metadata": {},
   "source": [
    "### Splitting into train, test"
   ]
  },
  {
   "cell_type": "code",
   "execution_count": 6,
   "metadata": {},
   "outputs": [],
   "source": [
    "y = df['Winner']\n",
    "X = df.drop(columns = 'Winner')\n",
    "\n",
    "X_train, X_test, y_train, y_test = train_test_split(X, y, test_size=0.1, random_state=43)"
   ]
  },
  {
   "cell_type": "markdown",
   "metadata": {},
   "source": [
    "### Fitting baseline Random Forest"
   ]
  },
  {
   "cell_type": "code",
   "execution_count": 7,
   "metadata": {},
   "outputs": [],
   "source": [
    "model = RandomForestClassifier(n_estimators=100, oob_score=True, random_state=43)"
   ]
  },
  {
   "cell_type": "code",
   "execution_count": 8,
   "metadata": {},
   "outputs": [
    {
     "data": {
      "text/plain": [
       "RandomForestClassifier(bootstrap=True, class_weight=None, criterion='gini',\n",
       "            max_depth=None, max_features='auto', max_leaf_nodes=None,\n",
       "            min_impurity_decrease=0.0, min_impurity_split=None,\n",
       "            min_samples_leaf=1, min_samples_split=2,\n",
       "            min_weight_fraction_leaf=0.0, n_estimators=100, n_jobs=1,\n",
       "            oob_score=True, random_state=43, verbose=0, warm_start=False)"
      ]
     },
     "execution_count": 8,
     "metadata": {},
     "output_type": "execute_result"
    }
   ],
   "source": [
    "model.fit(X_train, y_train)"
   ]
  },
  {
   "cell_type": "code",
   "execution_count": 9,
   "metadata": {},
   "outputs": [
    {
     "data": {
      "text/plain": [
       "0.66491336633663367"
      ]
     },
     "execution_count": 9,
     "metadata": {},
     "output_type": "execute_result"
    }
   ],
   "source": [
    "model.oob_score_"
   ]
  },
  {
   "cell_type": "code",
   "execution_count": 10,
   "metadata": {},
   "outputs": [],
   "source": [
    "y_preds = model.predict(X_test)"
   ]
  },
  {
   "cell_type": "code",
   "execution_count": 11,
   "metadata": {},
   "outputs": [
    {
     "data": {
      "text/plain": [
       "0.69444444444444442"
      ]
     },
     "execution_count": 11,
     "metadata": {},
     "output_type": "execute_result"
    }
   ],
   "source": [
    "accuracy_score(y_test, y_preds)"
   ]
  },
  {
   "cell_type": "code",
   "execution_count": 12,
   "metadata": {},
   "outputs": [
    {
     "data": {
      "text/plain": [
       "array([  4.41323301e-04,   5.55736851e-04,   2.25287106e-03,\n",
       "         3.48939411e-03,   0.00000000e+00,   8.75121320e-03,\n",
       "         9.94038763e-03,   7.97435049e-03,   8.06207602e-03,\n",
       "         1.41007880e-02,   1.19687995e-02,   8.12569885e-03,\n",
       "         8.11998811e-03,   1.22017619e-02,   1.04892706e-02,\n",
       "         4.30512450e-03,   9.15336171e-03,   8.98870564e-03,\n",
       "         6.52802436e-03,   3.48227675e-03,   1.34063918e-02,\n",
       "         1.18060367e-02,   9.43271211e-03,   4.72990429e-03,\n",
       "         9.09197135e-03,   6.90225291e-03,   7.12259915e-03,\n",
       "         8.60985194e-03,   8.11749296e-03,   3.82403631e-03,\n",
       "         3.39350095e-03,   8.33406315e-03,   7.22956248e-03,\n",
       "         9.27035861e-03,   8.58298844e-03,   1.06650041e-02,\n",
       "         1.04871666e-02,   8.51068910e-03,   7.41219834e-03,\n",
       "         8.72286907e-03,   8.71147199e-03,   4.47247007e-03,\n",
       "         8.54105512e-03,   8.65444529e-03,   6.62872786e-03,\n",
       "         3.07170850e-03,   9.07439867e-03,   8.17475224e-03,\n",
       "         8.91933710e-03,   5.54891036e-03,   8.08848992e-03,\n",
       "         7.34388387e-03,   7.65626931e-03,   9.06303480e-03,\n",
       "         1.01274265e-02,   6.67812269e-03,   7.15206026e-03,\n",
       "         1.79328008e-03,   2.42221227e-04,   1.60908650e-03,\n",
       "         3.00961490e-03,   3.13955533e-03,   2.50196256e-03,\n",
       "         8.32094232e-04,   4.04264031e-03,   5.87293695e-03,\n",
       "         6.92410570e-03,   4.63862612e-03,   2.33418559e-03,\n",
       "         3.46623224e-03,   0.00000000e+00,   9.59525218e-03,\n",
       "         9.40182995e-03,   8.73335236e-03,   8.70829866e-03,\n",
       "         8.90250045e-03,   8.65662520e-03,   8.86220217e-03,\n",
       "         7.79840817e-03,   9.32130334e-03,   9.01675444e-03,\n",
       "         5.73679299e-03,   8.06424487e-03,   7.70370780e-03,\n",
       "         8.21045428e-03,   5.42052795e-03,   7.92838384e-03,\n",
       "         8.48442841e-03,   8.91673899e-03,   5.91572708e-03,\n",
       "         8.70711110e-03,   8.15466113e-03,   9.96589231e-03,\n",
       "         9.13741311e-03,   9.50170786e-03,   3.87075434e-03,\n",
       "         7.03791108e-03,   1.00692596e-02,   9.72180283e-03,\n",
       "         9.10227674e-03,   8.63191119e-03,   1.01292217e-02,\n",
       "         1.04152451e-02,   7.92744965e-03,   8.81043204e-03,\n",
       "         1.02781090e-02,   1.39363280e-02,   6.15204350e-03,\n",
       "         8.74511128e-03,   8.62441752e-03,   8.36032564e-03,\n",
       "         4.03161748e-03,   9.73146526e-03,   1.59565640e-02,\n",
       "         1.30517158e-02,   6.32308824e-03,   8.32591343e-03,\n",
       "         7.77962168e-03,   7.63953962e-03,   9.34584844e-03,\n",
       "         1.01493791e-02,   8.11533459e-03,   1.02804009e-02,\n",
       "         2.27573243e-03,   6.13180784e-04,   2.44917055e-03,\n",
       "         3.02217243e-03,   3.23605660e-03,   3.30309234e-03,\n",
       "         8.86594046e-04,   5.15872052e-03,   4.99305388e-03,\n",
       "         6.01407722e-03,   4.60518605e-03,   1.12419371e-02,\n",
       "         1.41175732e-02,   6.62850368e-04,   0.00000000e+00,\n",
       "         1.20751993e-03,   2.42409633e-04,   2.35955601e-04,\n",
       "         7.00394007e-04,   7.81652872e-04,   7.15293909e-04,\n",
       "         6.87860957e-06,   1.48185396e-03,   4.03240439e-04,\n",
       "         1.25030291e-04,   1.09604329e-04,   4.76127430e-04,\n",
       "         0.00000000e+00,   1.02544168e-03,   0.00000000e+00,\n",
       "         7.47480229e-04,   4.41616206e-04,   1.57730032e-04,\n",
       "         9.22594363e-04,   9.55892653e-04,   4.00570881e-04])"
      ]
     },
     "execution_count": 12,
     "metadata": {},
     "output_type": "execute_result"
    }
   ],
   "source": [
    "model.feature_importances_"
   ]
  },
  {
   "cell_type": "code",
   "execution_count": null,
   "metadata": {},
   "outputs": [],
   "source": []
  }
 ],
 "metadata": {
  "kernelspec": {
   "display_name": "Python 3",
   "language": "python",
   "name": "python3"
  },
  "language_info": {
   "codemirror_mode": {
    "name": "ipython",
    "version": 3
   },
   "file_extension": ".py",
   "mimetype": "text/x-python",
   "name": "python",
   "nbconvert_exporter": "python",
   "pygments_lexer": "ipython3",
   "version": "3.6.7"
  }
 },
 "nbformat": 4,
 "nbformat_minor": 2
}
